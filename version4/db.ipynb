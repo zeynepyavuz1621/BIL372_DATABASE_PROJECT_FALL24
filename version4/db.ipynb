{
 "cells": [
  {
   "cell_type": "code",
   "execution_count": 8,
   "metadata": {},
   "outputs": [
    {
     "name": "stdout",
     "output_type": "stream",
     "text": [
      "Defaulting to user installation because normal site-packages is not writeable\n",
      "Requirement already satisfied: sqlalchemy in /home/betul/.local/lib/python3.10/site-packages (2.0.36)\n",
      "Requirement already satisfied: typing-extensions>=4.6.0 in /home/betul/.local/lib/python3.10/site-packages (from sqlalchemy) (4.12.2)\n",
      "Requirement already satisfied: greenlet!=0.4.17 in /home/betul/.local/lib/python3.10/site-packages (from sqlalchemy) (3.1.1)\n"
     ]
    }
   ],
   "source": [
    "!pip3 install sqlalchemy"
   ]
  },
  {
   "cell_type": "code",
   "execution_count": null,
   "metadata": {},
   "outputs": [
    {
     "name": "stdout",
     "output_type": "stream",
     "text": [
      "Defaulting to user installation because normal site-packages is not writeable\n",
      "Requirement already satisfied: pandas in /home/betul/.local/lib/python3.10/site-packages (2.2.3)\n",
      "Requirement already satisfied: numpy>=1.22.4 in /home/betul/.local/lib/python3.10/site-packages (from pandas) (1.23.5)\n",
      "Requirement already satisfied: python-dateutil>=2.8.2 in /home/betul/.local/lib/python3.10/site-packages (from pandas) (2.9.0.post0)\n",
      "Requirement already satisfied: pytz>=2020.1 in /usr/lib/python3/dist-packages (from pandas) (2022.1)\n",
      "Requirement already satisfied: tzdata>=2022.7 in /home/betul/.local/lib/python3.10/site-packages (from pandas) (2024.2)\n",
      "Requirement already satisfied: six>=1.5 in /usr/lib/python3/dist-packages (from python-dateutil>=2.8.2->pandas) (1.16.0)\n"
     ]
    }
   ],
   "source": [
    "!pip3 install pandas\n"
   ]
  },
  {
   "cell_type": "code",
   "execution_count": null,
   "metadata": {},
   "outputs": [],
   "source": [
    "!pip3 install tkcalendar"
   ]
  },
  {
   "cell_type": "code",
   "execution_count": 10,
   "metadata": {},
   "outputs": [],
   "source": [
    "from sqlalchemy import create_engine\n",
    "import pandas as pd\n",
    "from sqlalchemy.orm import sessionmaker\n",
    "import os"
   ]
  },
  {
   "cell_type": "code",
   "execution_count": 11,
   "metadata": {},
   "outputs": [
    {
     "name": "stdout",
     "output_type": "stream",
     "text": [
      "Generating 10 hotels...\n",
      "Generating photos...\n",
      "Generated 0 photos\n",
      "Generating amenities...\n",
      "Generating rooms...\n",
      "Generating 1000 guests...\n",
      "Generated 100 guests\n",
      "Generated 200 guests\n",
      "Generated 300 guests\n",
      "Generated 400 guests\n",
      "Generated 500 guests\n",
      "Generated 600 guests\n",
      "Generated 700 guests\n",
      "Generated 800 guests\n",
      "Generated 900 guests\n",
      "Generated 1000 guests\n",
      "Completed generating 1000 guests\n",
      "Generating dependents...\n",
      "Generated 100 dependents...\n",
      "Generated 200 dependents...\n",
      "Generated 300 dependents...\n",
      "Generated 400 dependents...\n",
      "Generated 500 dependents...\n",
      "Generated 600 dependents...\n",
      "Generated 700 dependents...\n",
      "Generated 800 dependents...\n",
      "Generated 900 dependents...\n",
      "Generated 1000 dependents...\n",
      "Generated 1100 dependents...\n",
      "Generated 1200 dependents...\n",
      "Generated 1300 dependents...\n",
      "Generated 1400 dependents...\n",
      "Completed generating 1498 dependents.\n",
      "Generating reservations...\n",
      "Generated 300 reservations\n",
      "Generated 400 reservations\n",
      "Generated 500 reservations\n",
      "Generated 600 reservations\n",
      "Generated 700 reservations\n",
      "Generated 800 reservations\n",
      "Generated 1500 reservations\n",
      "Generated 1800 reservations\n",
      "Generated 1900 reservations\n",
      "Completed generating 1996 reservations\n",
      "Generating payments...\n",
      "Generated 100 payments\n",
      "Generated 200 payments\n",
      "Generated 300 payments\n",
      "Generated 400 payments\n",
      "Generated 500 payments\n",
      "Generated 600 payments\n",
      "Generated 700 payments\n",
      "Generated 800 payments\n",
      "Generated 900 payments\n",
      "Generated 1000 payments\n",
      "Generated 1100 payments\n",
      "Generated 1200 payments\n",
      "Generated 1300 payments\n",
      "Generated 1400 payments\n",
      "Generated 1500 payments\n",
      "Generated 1600 payments\n",
      "Generated 1700 payments\n",
      "Generated 1800 payments\n",
      "Generated 1900 payments\n",
      "Completed generating 1996 payments\n",
      "Generating comments...\n",
      "Updating room availability...\n",
      "Room availability updated. 740 of 758 rooms are currently available.\n",
      "Saving 10 records to hotels.csv...\n",
      "Finished saving hotels.csv\n",
      "Saving 10 records to amenities.csv...\n",
      "Finished saving amenities.csv\n",
      "Saving 1000 records to guests.csv...\n",
      "Finished saving guests.csv\n",
      "Saving 1498 records to dependents.csv...\n",
      "Finished saving dependents.csv\n",
      "Saving 758 records to rooms.csv...\n",
      "Finished saving rooms.csv\n",
      "Saving 1996 records to payments.csv...\n",
      "Finished saving payments.csv\n",
      "Saving 1996 records to reservations.csv...\n",
      "Finished saving reservations.csv\n",
      "Saving 544 records to comments.csv...\n",
      "Finished saving comments.csv\n",
      "\n",
      "Data generation completed successfully!\n",
      "Generated:\n",
      "- 10 hotels\n",
      "- 10 amenities records\n",
      "- 0 photos\n",
      "- 1000 guests\n",
      "- 1498 dependents\n",
      "- 758 rooms\n",
      "- 1996 payments\n",
      "- 1996 reservations\n",
      "- 544 comments\n",
      "- Currently available rooms: 740\n",
      "\n",
      "Files have been saved in the 'data/csv' directory.\n"
     ]
    }
   ],
   "source": [
    "!python data_generator.py"
   ]
  },
  {
   "cell_type": "code",
   "execution_count": 12,
   "metadata": {},
   "outputs": [],
   "source": [
    "\n",
    "# Proje kök dizinini belirle\n",
    "base_path = os.getcwd()\n",
    "csv_dir = os.path.join(base_path, \"data\", \"csv\")  # data/csv dizinine göre ayarlama\n",
    "\n",
    "# CSV dosyalarını oku\n",
    "amenities = pd.read_csv(os.path.join(csv_dir, \"amenities.csv\"))\n",
    "comments = pd.read_csv(os.path.join(csv_dir, \"comments.csv\"))\n",
    "dependents = pd.read_csv(os.path.join(csv_dir, \"dependents.csv\"))\n",
    "guests = pd.read_csv(os.path.join(csv_dir, \"guests.csv\"))\n",
    "hotels = pd.read_csv(os.path.join(csv_dir, \"hotels.csv\"))\n",
    "payments = pd.read_csv(os.path.join(csv_dir, \"payments.csv\"))\n",
    "reservations = pd.read_csv(os.path.join(csv_dir, \"reservations.csv\"))\n",
    "rooms = pd.read_csv(os.path.join(csv_dir, \"rooms.csv\"))\n",
    "\n",
    "# photos.csv yorumu aktif hale getirmek isterseniz:\n",
    "# photos = pd.read_csv(os.path.join(csv_dir, \"photos.csv\"))"
   ]
  },
  {
   "cell_type": "code",
   "execution_count": 13,
   "metadata": {},
   "outputs": [
    {
     "data": {
      "text/plain": [
       "758"
      ]
     },
     "execution_count": 13,
     "metadata": {},
     "output_type": "execute_result"
    }
   ],
   "source": [
    "engine =create_engine('sqlite:///HotelManagement.db')\n",
    "Session = sessionmaker(bind=engine)  # Engine'i kullanarak bir oturum oluşturmak için sessionmaker.\n",
    "session = Session()  # Oturum başlatılıyor.\n",
    "\n",
    "amenities.to_sql('amenities', con=engine, if_exists='replace', index=False)\n",
    "comments.to_sql('comments', con=engine, if_exists='replace', index=False)\n",
    "dependents.to_sql('dependents', con=engine, if_exists='replace', index=False)\n",
    "guests.to_sql('guests', con=engine, if_exists='replace', index=False)\n",
    "hotels.to_sql('hotels', con=engine, if_exists='replace', index=False)\n",
    "payments.to_sql('payments', con=engine, if_exists='replace', index=False)\n",
    "#photos.to_sql('photos', con=engine, if_exists='replace', index=False)\n",
    "reservations.to_sql('reservations', con=engine, if_exists='replace', index=False)\n",
    "rooms.to_sql('rooms', con=engine, if_exists='replace', index=False)"
   ]
  },
  {
   "cell_type": "code",
   "execution_count": 14,
   "metadata": {},
   "outputs": [
    {
     "name": "stdout",
     "output_type": "stream",
     "text": [
      "Starting database table fixes...\n",
      "\n",
      "Checking initial database state...\n",
      "\n",
      "Current database state:\n",
      "amenities: 10 records\n",
      "comments: 544 records\n",
      "dependents: 1498 records\n",
      "guests: 1000 records\n",
      "hotels: 10 records\n",
      "payments: 1996 records\n",
      "reservations: 1996 records\n",
      "rooms: 758 records\n",
      "\n",
      "Fixing rooms table...\n",
      "Successfully restructured rooms table\n",
      "\n",
      "Fixing guests table...\n",
      "Successfully restructured guests table\n",
      "\n",
      "Fixing dependents table...\n",
      "Successfully restructured dependents table\n",
      "\n",
      "Fixing reservations table...\n",
      "Successfully restructured reservations table\n",
      "\n",
      "Checking final database state...\n",
      "\n",
      "Current database state:\n",
      "amenities: 10 records\n",
      "comments: 544 records\n",
      "hotels: 10 records\n",
      "payments: 1996 records\n",
      "rooms: 758 records\n",
      "sqlite_sequence: 4 records\n",
      "guests: 1000 records\n",
      "dependents: 1498 records\n",
      "reservations: 1996 records\n",
      "\n",
      "All fixes completed!\n"
     ]
    }
   ],
   "source": [
    "!python fix_tables.py"
   ]
  },
  {
   "cell_type": "code",
   "execution_count": 15,
   "metadata": {},
   "outputs": [
    {
     "data": {
      "text/plain": [
       "[]"
      ]
     },
     "execution_count": 15,
     "metadata": {},
     "output_type": "execute_result"
    }
   ],
   "source": [
    "import sqlite3\n",
    "\n",
    "conn = sqlite3.connect('HotelManagement.db')\n",
    "cursor = conn.cursor()\n",
    "\n",
    "    # Otel ve odaların tarih aralıklarını kontrol etme ve konum filtreleme\n",
    "query = '''\n",
    "        SELECT g_name, reservation_id\n",
    "        From guests, reservations\n",
    "        where g_name = \"zeynep\" AND guests.guest_id = reservations.guest_id\n",
    "    '''\n",
    "\n",
    "cursor.execute(query)\n",
    "cursor.fetchall()"
   ]
  },
  {
   "cell_type": "markdown",
   "metadata": {},
   "source": []
  }
 ],
 "metadata": {
  "kernelspec": {
   "display_name": "Python 3",
   "language": "python",
   "name": "python3"
  },
  "language_info": {
   "codemirror_mode": {
    "name": "ipython",
    "version": 3
   },
   "file_extension": ".py",
   "mimetype": "text/x-python",
   "name": "python",
   "nbconvert_exporter": "python",
   "pygments_lexer": "ipython3",
   "version": "2.7.18"
  }
 },
 "nbformat": 4,
 "nbformat_minor": 2
}
