{
 "cells": [
  {
   "cell_type": "code",
   "execution_count": 5,
   "metadata": {},
   "outputs": [
    {
     "name": "stdout",
     "output_type": "stream",
     "text": [
      "Requirement already satisfied: sqlalchemy in c:\\users\\zeyne\\appdata\\local\\programs\\python\\python312\\lib\\site-packages (2.0.36)\n",
      "Requirement already satisfied: typing-extensions>=4.6.0 in c:\\users\\zeyne\\appdata\\local\\programs\\python\\python312\\lib\\site-packages (from sqlalchemy) (4.12.2)\n",
      "Requirement already satisfied: greenlet!=0.4.17 in c:\\users\\zeyne\\appdata\\local\\programs\\python\\python312\\lib\\site-packages (from sqlalchemy) (3.1.1)\n"
     ]
    }
   ],
   "source": [
    "!pip3 install sqlalchemy"
   ]
  },
  {
   "cell_type": "code",
   "execution_count": 6,
   "metadata": {},
   "outputs": [
    {
     "name": "stdout",
     "output_type": "stream",
     "text": [
      "Requirement already satisfied: pandas in c:\\users\\zeyne\\appdata\\local\\programs\\python\\python312\\lib\\site-packages (2.2.3)\n",
      "Requirement already satisfied: numpy>=1.26.0 in c:\\users\\zeyne\\appdata\\local\\programs\\python\\python312\\lib\\site-packages (from pandas) (1.26.4)\n",
      "Requirement already satisfied: python-dateutil>=2.8.2 in c:\\users\\zeyne\\appdata\\local\\programs\\python\\python312\\lib\\site-packages (from pandas) (2.9.0.post0)\n",
      "Requirement already satisfied: pytz>=2020.1 in c:\\users\\zeyne\\appdata\\local\\programs\\python\\python312\\lib\\site-packages (from pandas) (2024.2)\n",
      "Requirement already satisfied: tzdata>=2022.7 in c:\\users\\zeyne\\appdata\\local\\programs\\python\\python312\\lib\\site-packages (from pandas) (2024.2)\n",
      "Requirement already satisfied: six>=1.5 in c:\\users\\zeyne\\appdata\\local\\programs\\python\\python312\\lib\\site-packages (from python-dateutil>=2.8.2->pandas) (1.16.0)\n"
     ]
    }
   ],
   "source": [
    "!pip3 install pandas\n"
   ]
  },
  {
   "cell_type": "code",
   "execution_count": 7,
   "metadata": {},
   "outputs": [],
   "source": [
    "from sqlalchemy import create_engine\n",
    "import pandas as pd\n",
    "from sqlalchemy.orm import sessionmaker"
   ]
  },
  {
   "cell_type": "code",
   "execution_count": null,
   "metadata": {},
   "outputs": [],
   "source": [
    "!python data_generator.py"
   ]
  },
  {
   "cell_type": "code",
   "execution_count": 8,
   "metadata": {},
   "outputs": [],
   "source": [
    "# Tabloları okuma\n",
    "\n",
    "amenities=pd.read_csv(\"C:/Users/zeyne/vscode-workspace/BIL372_PROJECT_FALL24/data/csv/amenities.csv\")\n",
    "comments=pd.read_csv(\"C:/Users/zeyne/vscode-workspace/BIL372_PROJECT_FALL24/data/csv/comments.csv\")\n",
    "dependents=pd.read_csv(\"C:/Users/zeyne/vscode-workspace/BIL372_PROJECT_FALL24/data/csv/dependents.csv\")\n",
    "guests=pd.read_csv(\"C:/Users/zeyne/vscode-workspace/BIL372_PROJECT_FALL24/data/csv/guests.csv\")\n",
    "hotels=pd.read_csv(\"C:/Users/zeyne/vscode-workspace/BIL372_PROJECT_FALL24/data/csv/hotels.csv\")\n",
    "payments=pd.read_csv(\"C:/Users/zeyne/vscode-workspace/BIL372_PROJECT_FALL24/data/csv/payments.csv\")\n",
    "#photos=pd.read_csv(\"C:/Users/zeyne/vscode-workspace/BIL372_PROJECT_FALL24/data/csv/photos.csv\")\n",
    "reservations=pd.read_csv(\"C:/Users/zeyne/vscode-workspace/BIL372_PROJECT_FALL24/data/csv/reservations.csv\")\n",
    "rooms=pd.read_csv(\"C:/Users/zeyne/vscode-workspace/BIL372_PROJECT_FALL24/data/csv/rooms.csv\")"
   ]
  },
  {
   "cell_type": "code",
   "execution_count": 9,
   "metadata": {},
   "outputs": [
    {
     "data": {
      "text/plain": [
       "712"
      ]
     },
     "execution_count": 9,
     "metadata": {},
     "output_type": "execute_result"
    }
   ],
   "source": [
    "engine =create_engine('sqlite:///HotelManagement.db')\n",
    "Session = sessionmaker(bind=engine)  # Engine'i kullanarak bir oturum oluşturmak için sessionmaker.\n",
    "session = Session()  # Oturum başlatılıyor.\n",
    "\n",
    "amenities.to_sql('amenities', con=engine, if_exists='replace', index=False)\n",
    "comments.to_sql('comments', con=engine, if_exists='replace', index=False)\n",
    "dependents.to_sql('dependents', con=engine, if_exists='replace', index=False)\n",
    "guests.to_sql('guests', con=engine, if_exists='replace', index=False)\n",
    "hotels.to_sql('hotels', con=engine, if_exists='replace', index=False)\n",
    "payments.to_sql('payments', con=engine, if_exists='replace', index=False)\n",
    "#photos.to_sql('photos', con=engine, if_exists='replace', index=False)\n",
    "reservations.to_sql('reservations', con=engine, if_exists='replace', index=False)\n",
    "rooms.to_sql('rooms', con=engine, if_exists='replace', index=False)"
   ]
  },
  {
   "cell_type": "code",
   "execution_count": 13,
   "metadata": {},
   "outputs": [
    {
     "name": "stdout",
     "output_type": "stream",
     "text": [
      "Starting database table fixes...\n",
      "\n",
      "Checking initial database state...\n",
      "\n",
      "Current database state:\n",
      "amenities: 10 records\n",
      "comments: 548 records\n",
      "hotels: 10 records\n",
      "payments: 2000 records\n",
      "sqlite_sequence: 4 records\n",
      "rooms: 712 records\n",
      "guests: 1004 records\n",
      "dependents: 1420 records\n",
      "reservations: 2000 records\n",
      "\n",
      "Fixing rooms table...\n",
      "Successfully restructured rooms table\n",
      "\n",
      "Fixing guests table...\n",
      "Successfully restructured guests table\n",
      "\n",
      "Fixing dependents table...\n",
      "Successfully restructured dependents table\n",
      "\n",
      "Fixing reservations table...\n",
      "Successfully restructured reservations table\n",
      "\n",
      "Checking final database state...\n",
      "\n",
      "Current database state:\n",
      "amenities: 10 records\n",
      "comments: 548 records\n",
      "hotels: 10 records\n",
      "payments: 2000 records\n",
      "sqlite_sequence: 4 records\n",
      "rooms: 712 records\n",
      "guests: 1004 records\n",
      "dependents: 1420 records\n",
      "reservations: 2000 records\n",
      "\n",
      "All fixes completed!\n"
     ]
    }
   ],
   "source": [
    "!python fix_tables.py"
   ]
  },
  {
   "cell_type": "code",
   "execution_count": 12,
   "metadata": {},
   "outputs": [
    {
     "data": {
      "text/plain": [
       "[('zeynep', 1995)]"
      ]
     },
     "execution_count": 12,
     "metadata": {},
     "output_type": "execute_result"
    }
   ],
   "source": [
    "import sqlite3\n",
    "\n",
    "conn = sqlite3.connect('HotelManagement.db')\n",
    "cursor = conn.cursor()\n",
    "\n",
    "    # Otel ve odaların tarih aralıklarını kontrol etme ve konum filtreleme\n",
    "query = '''\n",
    "        SELECT g_name, reservation_id\n",
    "        From guests, reservations\n",
    "        where g_name = \"zeynep\" AND guests.guest_id = reservations.guest_id\n",
    "    '''\n",
    "\n",
    "cursor.execute(query)\n",
    "cursor.fetchall()"
   ]
  },
  {
   "cell_type": "markdown",
   "metadata": {},
   "source": []
  }
 ],
 "metadata": {
  "kernelspec": {
   "display_name": "Python 3",
   "language": "python",
   "name": "python3"
  },
  "language_info": {
   "codemirror_mode": {
    "name": "ipython",
    "version": 3
   },
   "file_extension": ".py",
   "mimetype": "text/x-python",
   "name": "python",
   "nbconvert_exporter": "python",
   "pygments_lexer": "ipython3",
   "version": "3.12.2"
  }
 },
 "nbformat": 4,
 "nbformat_minor": 2
}
