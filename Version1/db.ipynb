{
 "cells": [
  {
   "cell_type": "code",
   "execution_count": 2,
   "metadata": {},
   "outputs": [
    {
     "name": "stdout",
     "output_type": "stream",
     "text": [
      "Requirement already satisfied: sqlalchemy in c:\\users\\duygu\\appdata\\local\\packages\\pythonsoftwarefoundation.python.3.11_qbz5n2kfra8p0\\localcache\\local-packages\\python311\\site-packages (2.0.36)\n",
      "Requirement already satisfied: typing-extensions>=4.6.0 in c:\\users\\duygu\\appdata\\local\\packages\\pythonsoftwarefoundation.python.3.11_qbz5n2kfra8p0\\localcache\\local-packages\\python311\\site-packages (from sqlalchemy) (4.12.2)\n",
      "Requirement already satisfied: greenlet!=0.4.17 in c:\\users\\duygu\\appdata\\local\\packages\\pythonsoftwarefoundation.python.3.11_qbz5n2kfra8p0\\localcache\\local-packages\\python311\\site-packages (from sqlalchemy) (3.1.1)\n"
     ]
    }
   ],
   "source": [
    "!pip3 install sqlalchemy"
   ]
  },
  {
   "cell_type": "code",
   "execution_count": 3,
   "metadata": {},
   "outputs": [
    {
     "name": "stdout",
     "output_type": "stream",
     "text": [
      "Requirement already satisfied: pandas in c:\\users\\duygu\\appdata\\local\\packages\\pythonsoftwarefoundation.python.3.11_qbz5n2kfra8p0\\localcache\\local-packages\\python311\\site-packages (2.2.2)\n",
      "Requirement already satisfied: numpy>=1.23.2 in c:\\users\\duygu\\appdata\\local\\packages\\pythonsoftwarefoundation.python.3.11_qbz5n2kfra8p0\\localcache\\local-packages\\python311\\site-packages (from pandas) (1.26.4)\n",
      "Requirement already satisfied: python-dateutil>=2.8.2 in c:\\users\\duygu\\appdata\\local\\packages\\pythonsoftwarefoundation.python.3.11_qbz5n2kfra8p0\\localcache\\local-packages\\python311\\site-packages (from pandas) (2.9.0.post0)\n",
      "Requirement already satisfied: pytz>=2020.1 in c:\\users\\duygu\\appdata\\local\\packages\\pythonsoftwarefoundation.python.3.11_qbz5n2kfra8p0\\localcache\\local-packages\\python311\\site-packages (from pandas) (2024.1)\n",
      "Requirement already satisfied: tzdata>=2022.7 in c:\\users\\duygu\\appdata\\local\\packages\\pythonsoftwarefoundation.python.3.11_qbz5n2kfra8p0\\localcache\\local-packages\\python311\\site-packages (from pandas) (2024.1)\n",
      "Requirement already satisfied: six>=1.5 in c:\\users\\duygu\\appdata\\local\\packages\\pythonsoftwarefoundation.python.3.11_qbz5n2kfra8p0\\localcache\\local-packages\\python311\\site-packages (from python-dateutil>=2.8.2->pandas) (1.16.0)\n"
     ]
    }
   ],
   "source": [
    "!pip3 install pandas\n"
   ]
  },
  {
   "cell_type": "code",
   "execution_count": 16,
   "metadata": {},
   "outputs": [],
   "source": [
    "from sqlalchemy import create_engine\n",
    "import pandas as pd\n",
    "from sqlalchemy.orm import sessionmaker"
   ]
  },
  {
   "cell_type": "code",
   "execution_count": 25,
   "metadata": {},
   "outputs": [],
   "source": [
    "import os\n",
    "# Proje kök dizinini belirle\n",
    "base_path = os.getcwd()\n",
    "csv_dir = os.path.join(base_path, \"data\", \"csv\")  # data/csv dizinine göre ayarlama\n",
    "\n",
    "# CSV dosyalarını oku\n",
    "amenities = pd.read_csv(os.path.join(csv_dir, \"amenities.csv\"))\n",
    "comments = pd.read_csv(os.path.join(csv_dir, \"comments.csv\"))\n",
    "dependents = pd.read_csv(os.path.join(csv_dir, \"dependents.csv\"))\n",
    "guests = pd.read_csv(os.path.join(csv_dir, \"guests.csv\"))\n",
    "hotels = pd.read_csv(os.path.join(csv_dir, \"hotels.csv\"))\n",
    "payments = pd.read_csv(os.path.join(csv_dir, \"payments.csv\"))\n",
    "reservations = pd.read_csv(os.path.join(csv_dir, \"reservations.csv\"))\n",
    "rooms = pd.read_csv(os.path.join(csv_dir, \"rooms.csv\"))"
   ]
  },
  {
   "cell_type": "code",
   "execution_count": 26,
   "metadata": {},
   "outputs": [
    {
     "data": {
      "text/plain": [
       "535"
      ]
     },
     "execution_count": 26,
     "metadata": {},
     "output_type": "execute_result"
    }
   ],
   "source": [
    "engine =create_engine('sqlite:///HotelManagement.db')\n",
    "Session = sessionmaker(bind=engine)  # Engine'i kullanarak bir oturum oluşturmak için sessionmaker.\n",
    "session = Session()  # Oturum başlatılıyor.\n",
    "\n",
    "amenities.to_sql('amenities', con=engine, if_exists='replace', index=False)\n",
    "comments.to_sql('comments', con=engine, if_exists='replace', index=False)\n",
    "dependents.to_sql('dependents', con=engine, if_exists='replace', index=False)\n",
    "guests.to_sql('guests', con=engine, if_exists='replace', index=False)\n",
    "hotels.to_sql('hotels', con=engine, if_exists='replace', index=False)\n",
    "payments.to_sql('payments', con=engine, if_exists='replace', index=False)\n",
    "#photos.to_sql('photos', con=engine, if_exists='replace', index=False)\n",
    "reservations.to_sql('reservations', con=engine, if_exists='replace', index=False)\n",
    "rooms.to_sql('rooms', con=engine, if_exists='replace', index=False)"
   ]
  },
  {
   "cell_type": "code",
   "execution_count": 27,
   "metadata": {},
   "outputs": [
    {
     "name": "stdout",
     "output_type": "stream",
     "text": [
      "Starting database table fixes...\n",
      "\n",
      "Checking initial database state...\n",
      "\n",
      "Current database state:\n",
      "photos: 50 records\n",
      "sqlite_sequence: 0 records\n",
      "amenities: 10 records\n",
      "comments: 543 records\n",
      "dependents: 1478 records\n",
      "guests: 1000 records\n",
      "hotels: 10 records\n",
      "payments: 2020 records\n",
      "reservations: 2020 records\n",
      "rooms: 535 records\n",
      "\n",
      "Fixing rooms table...\n",
      "Successfully restructured rooms table\n",
      "\n",
      "Fixing guests table...\n",
      "Successfully restructured guests table\n",
      "\n",
      "Fixing dependents table...\n",
      "Successfully restructured dependents table\n",
      "\n",
      "Fixing reservations table...\n",
      "Successfully restructured reservations table\n",
      "\n",
      "Checking final database state...\n",
      "\n",
      "Current database state:\n",
      "photos: 50 records\n",
      "sqlite_sequence: 4 records\n",
      "amenities: 10 records\n",
      "comments: 543 records\n",
      "hotels: 10 records\n",
      "payments: 2020 records\n",
      "rooms: 535 records\n",
      "guests: 1000 records\n",
      "dependents: 1478 records\n",
      "reservations: 2020 records\n",
      "\n",
      "Fixing comments table...\n",
      "No existing comments table found, creating new one...\n",
      "Successfully restructured comments table\n",
      "\n",
      "Importing photos...\n",
      "Successfully imported photos from hotel_images.json\n",
      "\n",
      "All fixes completed!\n"
     ]
    }
   ],
   "source": [
    "!python3 fix_tables.py"
   ]
  },
  {
   "cell_type": "code",
   "execution_count": null,
   "metadata": {},
   "outputs": [
    {
     "ename": "OperationalError",
     "evalue": "no such column: c.content",
     "output_type": "error",
     "traceback": [
      "\u001b[1;31m---------------------------------------------------------------------------\u001b[0m",
      "\u001b[1;31mOperationalError\u001b[0m                          Traceback (most recent call last)",
      "Cell \u001b[1;32mIn[29], line 12\u001b[0m\n\u001b[0;32m      6\u001b[0m     \u001b[38;5;66;03m# Otel ve odaların tarih aralıklarını kontrol etme ve konum filtreleme\u001b[39;00m\n\u001b[0;32m      7\u001b[0m query \u001b[38;5;241m=\u001b[39m \u001b[38;5;124m'''\u001b[39m\n\u001b[0;32m      8\u001b[0m \u001b[38;5;124m        SELECT c.content\u001b[39m\n\u001b[0;32m      9\u001b[0m \u001b[38;5;124m        From comments c\u001b[39m\n\u001b[0;32m     10\u001b[0m \u001b[38;5;124m    \u001b[39m\u001b[38;5;124m'''\u001b[39m\n\u001b[1;32m---> 12\u001b[0m \u001b[43mcursor\u001b[49m\u001b[38;5;241;43m.\u001b[39;49m\u001b[43mexecute\u001b[49m\u001b[43m(\u001b[49m\u001b[43mquery\u001b[49m\u001b[43m)\u001b[49m\n\u001b[0;32m     13\u001b[0m cursor\u001b[38;5;241m.\u001b[39mfetchall()\n",
      "\u001b[1;31mOperationalError\u001b[0m: no such column: c.content"
     ]
    }
   ],
   "source": [
    "import sqlite3\n",
    "\n",
    "conn = sqlite3.connect('HotelManagement.db')\n",
    "cursor = conn.cursor()\n",
    "\n",
    "    # Otel ve odaların tarih aralıklarını kontrol etme ve konum filtreleme\n",
    "query = '''\n",
    "        SELECT c.content\n",
    "        FROM comments c\n",
    "    '''\n",
    "\n",
    "cursor.execute(query)\n",
    "cursor.fetchall()"
   ]
  },
  {
   "cell_type": "code",
   "execution_count": 11,
   "metadata": {},
   "outputs": [
    {
     "data": {
      "text/plain": [
       "[]"
      ]
     },
     "execution_count": 11,
     "metadata": {},
     "output_type": "execute_result"
    }
   ],
   "source": [
    "import sqlite3\n",
    "\n",
    "conn = sqlite3.connect('HotelManagement.db')\n",
    "cursor = conn.cursor()\n",
    "\n",
    "    # Otel ve odaların tarih aralıklarını kontrol etme ve konum filtreleme\n",
    "query = '''\n",
    "        SELECT *\n",
    "        From guests\n",
    "        where g_name = 'Ekin Gedik'\n",
    "    '''\n",
    "\n",
    "cursor.execute(query)\n",
    "cursor.fetchall()"
   ]
  },
  {
   "cell_type": "code",
   "execution_count": 24,
   "metadata": {},
   "outputs": [
    {
     "data": {
      "text/plain": [
       "[(1001, 1, 'images\\\\hotel_1\\\\1001.jpg', 'exterior'),\n",
       " (1004, 1, 'images\\\\hotel_1\\\\1004.jpg', 'exterior'),\n",
       " (2001, 2, 'images\\\\hotel_2\\\\2001.jpg', 'exterior'),\n",
       " (3001, 3, 'images\\\\hotel_3\\\\3001.jpg', 'exterior'),\n",
       " (3002, 3, 'images\\\\hotel_3\\\\3002.jpg', 'exterior'),\n",
       " (4001, 4, 'images\\\\hotel_4\\\\4001.jpg', 'exterior'),\n",
       " (4004, 4, 'images\\\\hotel_4\\\\4004.jpg', 'exterior'),\n",
       " (4005, 4, 'images\\\\hotel_4\\\\4005.jpg', 'exterior'),\n",
       " (5001, 5, 'images\\\\hotel_5\\\\5001.jpg', 'exterior'),\n",
       " (5004, 5, 'images\\\\hotel_5\\\\5004.jpg', 'exterior'),\n",
       " (6001, 6, 'images\\\\hotel_6\\\\6001.jpg', 'exterior'),\n",
       " (7001, 7, 'images\\\\hotel_7\\\\7001.jpg', 'exterior'),\n",
       " (8001, 8, 'images\\\\hotel_8\\\\8001.jpg', 'exterior'),\n",
       " (9001, 9, 'images\\\\hotel_9\\\\9001.jpg', 'exterior'),\n",
       " (10001, 10, 'images\\\\hotel_10\\\\10001.jpg', 'exterior')]"
      ]
     },
     "execution_count": 24,
     "metadata": {},
     "output_type": "execute_result"
    }
   ],
   "source": [
    "conn = sqlite3.connect('HotelManagement.db')\n",
    "cursor = conn.cursor()\n",
    "\n",
    "    # Otel ve odaların tarih aralıklarını kontrol etme ve konum filtreleme\n",
    "query = '''\n",
    "        SELECT *\n",
    "            FROM photos\n",
    "            WHERE image_type='exterior'\n",
    "    '''\n",
    "\n",
    "cursor.execute(query)\n",
    "cursor.fetchall()"
   ]
  },
  {
   "cell_type": "code",
   "execution_count": null,
   "metadata": {},
   "outputs": [],
   "source": []
  }
 ],
 "metadata": {
  "kernelspec": {
   "display_name": "Python 3",
   "language": "python",
   "name": "python3"
  },
  "language_info": {
   "codemirror_mode": {
    "name": "ipython",
    "version": 3
   },
   "file_extension": ".py",
   "mimetype": "text/x-python",
   "name": "python",
   "nbconvert_exporter": "python",
   "pygments_lexer": "ipython3",
   "version": "3.11.9"
  }
 },
 "nbformat": 4,
 "nbformat_minor": 2
}
