{
 "cells": [
  {
   "cell_type": "code",
   "execution_count": 1,
   "metadata": {},
   "outputs": [
    {
     "name": "stdout",
     "output_type": "stream",
     "text": [
      "Requirement already satisfied: sqlalchemy in ./.venv/lib/python3.10/site-packages (2.0.36)\n",
      "Requirement already satisfied: typing-extensions>=4.6.0 in ./.venv/lib/python3.10/site-packages (from sqlalchemy) (4.12.2)\n",
      "Requirement already satisfied: greenlet!=0.4.17 in ./.venv/lib/python3.10/site-packages (from sqlalchemy) (3.1.1)\n"
     ]
    }
   ],
   "source": [
    "!pip3 install sqlalchemy"
   ]
  },
  {
   "cell_type": "code",
   "execution_count": 2,
   "metadata": {},
   "outputs": [
    {
     "name": "stdout",
     "output_type": "stream",
     "text": [
      "Requirement already satisfied: pandas in ./.venv/lib/python3.10/site-packages (2.2.3)\n",
      "Requirement already satisfied: numpy>=1.22.4 in ./.venv/lib/python3.10/site-packages (from pandas) (2.1.3)\n",
      "Requirement already satisfied: python-dateutil>=2.8.2 in ./.venv/lib/python3.10/site-packages (from pandas) (2.9.0.post0)\n",
      "Requirement already satisfied: pytz>=2020.1 in ./.venv/lib/python3.10/site-packages (from pandas) (2024.2)\n",
      "Requirement already satisfied: tzdata>=2022.7 in ./.venv/lib/python3.10/site-packages (from pandas) (2024.2)\n",
      "Requirement already satisfied: six>=1.5 in ./.venv/lib/python3.10/site-packages (from python-dateutil>=2.8.2->pandas) (1.16.0)\n"
     ]
    }
   ],
   "source": [
    "!pip3 install pandas\n"
   ]
  },
  {
   "cell_type": "code",
   "execution_count": 3,
   "metadata": {},
   "outputs": [],
   "source": [
    "from sqlalchemy import create_engine\n",
    "import pandas as pd\n",
    "from sqlalchemy.orm import sessionmaker"
   ]
  },
  {
   "cell_type": "code",
   "execution_count": 4,
   "metadata": {},
   "outputs": [],
   "source": [
    "# Tabloları okuma\n",
    "\n",
    "amenities=pd.read_csv(\"/home/betul/Desktop/database_project/data/csv/amenities.csv\")\n",
    "comments=pd.read_csv(\"/home/betul/Desktop/database_project/data/csv/comments.csv\")\n",
    "dependents=pd.read_csv(\"/home/betul/Desktop/database_project/data/csv/dependents.csv\")\n",
    "guests=pd.read_csv(\"/home/betul/Desktop/database_project/data/csv/guests.csv\")\n",
    "hotels=pd.read_csv(\"/home/betul/Desktop/database_project/data/csv/hotels.csv\")\n",
    "payments=pd.read_csv(\"/home/betul/Desktop/database_project/data/csv/payments.csv\")\n",
    "#photos=pd.read_csv(\"/home/betul/Desktop/database_project/data/csv/photos.csv\")\n",
    "reservations=pd.read_csv(\"/home/betul/Desktop/database_project/data/csv/reservations.csv\")\n",
    "rooms=pd.read_csv(\"/home/betul/Desktop/database_project/data/csv/rooms.csv\")"
   ]
  },
  {
   "cell_type": "code",
   "execution_count": 5,
   "metadata": {},
   "outputs": [
    {
     "data": {
      "text/plain": [
       "890"
      ]
     },
     "execution_count": 5,
     "metadata": {},
     "output_type": "execute_result"
    }
   ],
   "source": [
    "engine =create_engine('sqlite:///HotelManagement.db')\n",
    "Session = sessionmaker(bind=engine)  # Engine'i kullanarak bir oturum oluşturmak için sessionmaker.\n",
    "session = Session()  # Oturum başlatılıyor.\n",
    "\n",
    "amenities.to_sql('amenities', con=engine, if_exists='replace', index=False)\n",
    "comments.to_sql('comments', con=engine, if_exists='replace', index=False)\n",
    "dependents.to_sql('dependents', con=engine, if_exists='replace', index=False)\n",
    "guests.to_sql('guests', con=engine, if_exists='replace', index=False)\n",
    "hotels.to_sql('hotels', con=engine, if_exists='replace', index=False)\n",
    "payments.to_sql('payments', con=engine, if_exists='replace', index=False)\n",
    "#photos.to_sql('photos', con=engine, if_exists='replace', index=False)\n",
    "reservations.to_sql('reservations', con=engine, if_exists='replace', index=False)\n",
    "rooms.to_sql('rooms', con=engine, if_exists='replace', index=False)"
   ]
  },
  {
   "cell_type": "code",
   "execution_count": null,
   "metadata": {},
   "outputs": [
    {
     "data": {
      "text/plain": [
       "[(1001, 'akka', 'akka', 'akka', '2024-11-28', 1, '20444444', 'F', 'akka')]"
      ]
     },
     "execution_count": 7,
     "metadata": {},
     "output_type": "execute_result"
    }
   ],
   "source": [
    "import sqlite3\n",
    "\n",
    "conn = sqlite3.connect('HotelManagement.db')\n",
    "cursor = conn.cursor()\n",
    "\n",
    "    # Otel ve odaların tarih aralıklarını kontrol etme ve konum filtreleme\n",
    "query = '''\n",
    "        SELECT *\n",
    "        From guests\n",
    "        where g_name = '111'\n",
    "    '''\n",
    "\n",
    "cursor.execute(query)\n",
    "cursor.fetchall()"
   ]
  }
 ],
 "metadata": {
  "kernelspec": {
   "display_name": ".venv",
   "language": "python",
   "name": "python3"
  },
  "language_info": {
   "codemirror_mode": {
    "name": "ipython",
    "version": 3
   },
   "file_extension": ".py",
   "mimetype": "text/x-python",
   "name": "python",
   "nbconvert_exporter": "python",
   "pygments_lexer": "ipython3",
   "version": "3.10.12"
  }
 },
 "nbformat": 4,
 "nbformat_minor": 2
}
